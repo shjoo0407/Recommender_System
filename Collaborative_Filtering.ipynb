{
 "cells": [
  {
   "cell_type": "code",
   "execution_count": null,
   "id": "39111644",
   "metadata": {},
   "outputs": [],
   "source": [
    "import pandas as pd\n",
    "import numpy as np\n",
    "\n",
    "if __name__ == \"__main__\":\n",
    "    movie=pd.read_csv('ml-latest/movies.csv')\n",
    "    rating=pd.read_csv('ml-latest/ratings.csv')"
   ]
  },
  {
   "cell_type": "code",
   "execution_count": null,
   "id": "3039127e",
   "metadata": {},
   "outputs": [],
   "source": [
    "#그대로 user-movie matrix 를 만들기엔 너무 큼\n",
    "#movie_pivot = rating.pivot_table(columns='userid',index='movieId',values='rating')\n",
    "\n",
    "# 500개 이상 평가한 user만 filtering\n",
    "x = rating['userId'].value_counts()>500\n",
    "print(len(x[x]))\n",
    "thin_rating = rating[rating['userId'].isin(x[x].index)]\n",
    "movie_pivot = thin_rating.pivot_table(columns='userId',index='movieId',values='rating')\n",
    "\n",
    "# movie도 rating수로 filtering\n",
    "y = thin_rating['movieId'].value_counts()>50\n",
    "print(len(y[y]))\n",
    "thin_rating= thin_rating[thin_rating['movieId'].isin(y[y].index)]\n",
    "movie_pivot = thin_rating.pivot_rable(columns='userId',index='movieId',values='rating')\n",
    "\n",
    "#nan은 일단 0으로 채우기\n",
    "movie_pivot.fillna(0,inplace=True)\n",
    "\n",
    "\n"
   ]
  },
  {
   "cell_type": "markdown",
   "id": "aebf8af5",
   "metadata": {},
   "source": [
    "## user24가 Jumanji (movieId = 2) 를 몇점으로 평가할까?"
   ]
  },
  {
   "cell_type": "code",
   "execution_count": null,
   "id": "71d13e83",
   "metadata": {},
   "outputs": [],
   "source": [
    "# Item-Item Collaborative Filtering\n",
    "\n",
    "from scipy.sparse import csr_matrix\n",
    "from sklearn.neighbors import NearestNeighbors\n",
    "\n",
    "movie_sparse = csr_matrix(movie_pivot)\n",
    "model = NearestNeighbors(n_neighbors=10, algorithm='brute',metric ='cosine')\n",
    "model.fit(movie_sparse)\n"
   ]
  },
  {
   "cell_type": "code",
   "execution_count": null,
   "id": "25872e12",
   "metadata": {},
   "outputs": [],
   "source": [
    "movie_pivot.iloc[1,:].value.reshape(1,-1)\n",
    "\n",
    "#이 item과 비슷하게 user들에게 평가받은 item을 nearest neighbor로 찾음\n",
    "distance,suggestions = model.kneighbors(movie_pivot.iloc[1,:].values.reshape(1,-1))\n",
    "distance,suggestions\n"
   ]
  },
  {
   "cell_type": "code",
   "execution_count": null,
   "id": "1ce67ee6",
   "metadata": {},
   "outputs": [],
   "source": [
    "movie[movie['movieId'].isin(movie_pivot.index[suggestions[0]])]\n",
    "\n",
    "#비슷한 top 10 movies 의 user 들의 평가\n",
    "movie_pivot.iloc[suggestions[0]]\n"
   ]
  },
  {
   "cell_type": "markdown",
   "id": "3ad5e237",
   "metadata": {},
   "source": [
    "### cosine distance 의 weighted average"
   ]
  },
  {
   "cell_type": "code",
   "execution_count": null,
   "id": "897d5895",
   "metadata": {},
   "outputs": [],
   "source": [
    "cosineSim = 1 - distance[0,1:]\n",
    "print(cosineSim)\n"
   ]
  },
  {
   "cell_type": "code",
   "execution_count": null,
   "id": "03159a76",
   "metadata": {},
   "outputs": [],
   "source": [
    "weight_sum = cosineSim.sum()\n",
    "weight_sum"
   ]
  },
  {
   "cell_type": "code",
   "execution_count": null,
   "id": "b73c503d",
   "metadata": {},
   "outputs": [],
   "source": [
    "neighbor = movie_pivot.iloc[suggestions[0, 1:]]\n",
    "neighbor"
   ]
  },
  {
   "cell_type": "code",
   "execution_count": null,
   "id": "02cc2e91",
   "metadata": {},
   "outputs": [],
   "source": [
    "weighted_est = [0] * len(neighbor.columns)\n",
    "for i in range(len(neighbor.columns)):\n",
    "    col_idx = neighbor.columns[i]\n",
    "    sum = 0\n",
    "    for j in range(len(neighbor)):\n",
    "        sum += cosineSim[j] * neighbor[col_idx].iloc[j]\n",
    "    weighted_est[i] = sum / weight_sum"
   ]
  },
  {
   "cell_type": "code",
   "execution_count": null,
   "id": "c100dea1",
   "metadata": {},
   "outputs": [],
   "source": [
    "movie_pivot_est = movie_pivot.copy()\n",
    "movie_pivot_est.loc[2] = weighted_est\n",
    "movie_pivot_est.loc[2]"
   ]
  },
  {
   "cell_type": "code",
   "execution_count": 1,
   "id": "95632aec",
   "metadata": {},
   "outputs": [
    {
     "ename": "NameError",
     "evalue": "name 'movie_pivot_est' is not defined",
     "output_type": "error",
     "traceback": [
      "\u001b[1;31m---------------------------------------------------------------------------\u001b[0m",
      "\u001b[1;31mNameError\u001b[0m                                 Traceback (most recent call last)",
      "Input \u001b[1;32mIn [1]\u001b[0m, in \u001b[0;36m<cell line: 1>\u001b[1;34m()\u001b[0m\n\u001b[1;32m----> 1\u001b[0m \u001b[43mmovie_pivot_est\u001b[49m[\u001b[38;5;241m24\u001b[39m][\u001b[38;5;241m2\u001b[39m]\n",
      "\u001b[1;31mNameError\u001b[0m: name 'movie_pivot_est' is not defined"
     ]
    }
   ],
   "source": [
    "movie_pivot_est[24][2]"
   ]
  },
  {
   "cell_type": "markdown",
   "id": "8124b06d",
   "metadata": {},
   "source": [
    "### pearson correlation으로 바꾸기"
   ]
  },
  {
   "cell_type": "code",
   "execution_count": null,
   "id": "642b6da3",
   "metadata": {},
   "outputs": [],
   "source": [
    "model = NearestNeighbors(n_neighbors=10, algorithm='brute', metric='correlation')\n",
    "model.fit(movie_pivot)"
   ]
  },
  {
   "cell_type": "code",
   "execution_count": null,
   "id": "d45abe6a",
   "metadata": {},
   "outputs": [],
   "source": [
    "distance,suggestions = model.kneighbors(movie_pivot.iloc[1,:].values.reshape(1,-1))\n",
    "distance,suggestions"
   ]
  },
  {
   "cell_type": "code",
   "execution_count": null,
   "id": "31308067",
   "metadata": {},
   "outputs": [],
   "source": [
    "movie_corr = movie_pivot.iloc[suggestions[0, 0:]]\n",
    "movie_corr[:]"
   ]
  },
  {
   "cell_type": "code",
   "execution_count": null,
   "id": "ac8497bf",
   "metadata": {},
   "outputs": [],
   "source": [
    "weight_corr = np.corrcoef(movie_corr)[0]\n",
    "print(weight_corr)"
   ]
  },
  {
   "cell_type": "code",
   "execution_count": null,
   "id": "061a9198",
   "metadata": {},
   "outputs": [],
   "source": [
    "# 분모 구해놓기\n",
    "weight_sum = weight_corr[1:].sum()\n",
    "weight_sum"
   ]
  },
  {
   "cell_type": "code",
   "execution_count": null,
   "id": "27e86f82",
   "metadata": {},
   "outputs": [],
   "source": [
    "weighted_est = [0] * len(movie_corr[1:].columns)\n",
    "for i in range(len(movie_corr[1:].columns)):\n",
    "    col_idx = movie_corr[1:].columns[i]\n",
    "    sum = 0\n",
    "    for j in range(len(movie_corr[1:])):\n",
    "        sum += weight_corr[1:][j] * movie_corr[1:][col_idx].iloc[j]\n",
    "    weighted_est[i] = sum / weight_sum"
   ]
  },
  {
   "cell_type": "code",
   "execution_count": null,
   "id": "8921fbbb",
   "metadata": {},
   "outputs": [],
   "source": [
    "movie_pivot_est = movie_pivot.copy()\n",
    "movie_pivot_est.loc[2] = weighted_est\n",
    "movie_pivot_est.head()"
   ]
  },
  {
   "cell_type": "code",
   "execution_count": null,
   "id": "2a51f6de",
   "metadata": {},
   "outputs": [],
   "source": [
    "movie_pivot_est[24][2]"
   ]
  },
  {
   "cell_type": "markdown",
   "id": "87414a49",
   "metadata": {},
   "source": [
    "### user-user CF"
   ]
  },
  {
   "cell_type": "code",
   "execution_count": null,
   "id": "30272991",
   "metadata": {},
   "outputs": [],
   "source": [
    "user_pivot = movie_pivot.T"
   ]
  },
  {
   "cell_type": "code",
   "execution_count": null,
   "id": "5bfa6e85",
   "metadata": {},
   "outputs": [],
   "source": [
    "model = NearestNeighbors(n_neighbors=10, algorithm='brute', metric='correlation')\n",
    "model.fit(user_pivot)"
   ]
  },
  {
   "cell_type": "code",
   "execution_count": null,
   "id": "2f3d667e",
   "metadata": {},
   "outputs": [],
   "source": [
    "distance,suggestions = model.kneighbors(\\\n",
    "    user_pivot.iloc[1,:].values.reshape(1,-1))\n",
    "\n",
    "print(suggestions)"
   ]
  },
  {
   "cell_type": "code",
   "execution_count": null,
   "id": "22c508b4",
   "metadata": {},
   "outputs": [],
   "source": [
    "user_corr = user_pivot.iloc[suggestions[0]]\n",
    "user_corr[:]"
   ]
  },
  {
   "cell_type": "code",
   "execution_count": null,
   "id": "cc243346",
   "metadata": {},
   "outputs": [],
   "source": [
    "# 상관 계수 구하기\n",
    "\n",
    "weight_corr = np.corrcoef(user_corr)[0]\n",
    "weight_corr"
   ]
  },
  {
   "cell_type": "code",
   "execution_count": null,
   "id": "c8b80bf8",
   "metadata": {},
   "outputs": [],
   "source": [
    "# 미리 더 해놓기\n",
    "weight_corr_sum = weight_corr[1:].sum()\n",
    "weight_corr_sum"
   ]
  },
  {
   "cell_type": "code",
   "execution_count": null,
   "id": "d0b55fc3",
   "metadata": {},
   "outputs": [],
   "source": [
    "weighted_est = [0] * len(user_corr[1:].columns)\n",
    "for i in range(len(user_corr[1:].columns)):\n",
    "    col_idx = user_corr[1:].columns[i]\n",
    "    sum = 0\n",
    "    for j in range(len(user_corr[1:])):\n",
    "        sum += weight_corr[1:][j] * user_corr[1:][col_idx].iloc[j]\n",
    "    weighted_est[i] = sum / weight_corr_sum"
   ]
  },
  {
   "cell_type": "code",
   "execution_count": null,
   "id": "54ca392e",
   "metadata": {},
   "outputs": [],
   "source": [
    "user_pivot.loc[24] = weighted_est\n",
    "user_pivot.head()\n",
    "user_pivot[2][24]"
   ]
  }
 ],
 "metadata": {
  "kernelspec": {
   "display_name": "Python 3 (ipykernel)",
   "language": "python",
   "name": "python3"
  },
  "language_info": {
   "codemirror_mode": {
    "name": "ipython",
    "version": 3
   },
   "file_extension": ".py",
   "mimetype": "text/x-python",
   "name": "python",
   "nbconvert_exporter": "python",
   "pygments_lexer": "ipython3",
   "version": "3.8.0"
  }
 },
 "nbformat": 4,
 "nbformat_minor": 5
}
